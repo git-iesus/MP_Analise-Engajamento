{
 "cells": [
  {
   "cell_type": "markdown",
   "id": "a9dbcdd8-deab-4e33-8bef-ab7f6b84f672",
   "metadata": {},
   "source": [
    "# Marcela Personalizados: Análise de engajamento\n",
    "**LINK:** https://www.instagram.com/marcela_personalizados/"
   ]
  },
  {
   "cell_type": "markdown",
   "id": "2efdbc07-db10-41d9-bc01-915a43952785",
   "metadata": {
    "jp-MarkdownHeadingCollapsed": true
   },
   "source": [
    "## Scraping de dados (Links, tipo, data, curtidas, comentários)"
   ]
  },
  {
   "cell_type": "code",
   "execution_count": null,
   "id": "8add436a-12eb-45b4-8f02-635cd67d8bbd",
   "metadata": {},
   "outputs": [],
   "source": [
    "# Bibliotecas , configurações iniciais\n",
    "import pandas as pd\n",
    "import pyautogui as pag\n",
    "import pyperclip\n",
    "from time import sleep\n",
    "link_list = []"
   ]
  },
  {
   "cell_type": "code",
   "execution_count": null,
   "id": "26327245-131a-4bbf-8bf9-71d2ae721600",
   "metadata": {},
   "outputs": [],
   "source": [
    "# Posição\n",
    "pag.position()"
   ]
  },
  {
   "cell_type": "code",
   "execution_count": null,
   "id": "20ed8b5c-4e18-4c09-9e03-5f28babf2bf5",
   "metadata": {},
   "outputs": [],
   "source": [
    "# Função de copiar para a lista\n",
    "def funcao_links():\n",
    "    sleep(0.5)\n",
    "    pag.press('down')\n",
    "    pag.press('down')\n",
    "    pag.press('down')\n",
    "    pag.press('down')\n",
    "    pag.press('down')\n",
    "    pag.press('enter')\n",
    "    sleep(0.5)\n",
    "    \n",
    "    clipboard = pyperclip.paste()\n",
    "    link_list.append(clipboard)"
   ]
  },
  {
   "cell_type": "code",
   "execution_count": null,
   "id": "57f72081-a260-4578-97e2-15e0b0d0d89f",
   "metadata": {},
   "outputs": [],
   "source": [
    "# Coleta de Links\n",
    "pag.click(x=151, y=18)\n",
    "sleep(1)\n",
    "\n",
    "for i in range(56):\n",
    "    sleep(0.5)\n",
    "    pag.rightClick(x=373, y=215)\n",
    "    funcao_links()\n",
    "\n",
    "    sleep(0.5)\n",
    "    pag.rightClick(x=618, y=211)\n",
    "    funcao_links()\n",
    "\n",
    "    sleep(0.5)\n",
    "    pag.rightClick(x=877, y=216)\n",
    "    funcao_links()\n",
    "    \n",
    "    pag.scroll(-300)\n",
    "\n",
    "# Mostrar lista coletada\n",
    "for i in link_list:\n",
    "    print(i)"
   ]
  },
  {
   "cell_type": "markdown",
   "id": "62d89a76-ed54-4496-8cd3-81a2bd859cc6",
   "metadata": {},
   "source": [
    "<font color=\"blue\">✅ Arquivo completo → link_list.txt</font>"
   ]
  },
  {
   "cell_type": "code",
   "execution_count": null,
   "id": "3b7f78a5-846d-4b97-b051-eaf33a80ca54",
   "metadata": {},
   "outputs": [],
   "source": [
    "# Atualizando variável link_list com txt\n",
    "with open('link_list.txt', 'r', encoding='utf-8') as arquivo:\n",
    "    link_list = arquivo.readlines()  # Cada linha será um item da lista"
   ]
  },
  {
   "cell_type": "code",
   "execution_count": null,
   "id": "14fb9d2e-b1e2-4856-9b74-d5442eb03d07",
   "metadata": {},
   "outputs": [],
   "source": [
    "# Removendo quebras de linha extras\n",
    "link_list = [linha.strip() for linha in link_list]"
   ]
  },
  {
   "cell_type": "code",
   "execution_count": null,
   "id": "75baaa8c-60fb-4131-8dae-95f9aa9c4357",
   "metadata": {},
   "outputs": [],
   "source": [
    "# Separando as palavras de cada Link\n",
    "frase_link = [frase.split('/') for frase in link_list]"
   ]
  },
  {
   "cell_type": "code",
   "execution_count": null,
   "id": "a9918b27-d970-4f8a-935d-f328b9e7fc63",
   "metadata": {},
   "outputs": [],
   "source": [
    "# Criando lista de tipos\n",
    "tipos = []\n",
    "for i in range(166):\n",
    "    if frase_link[i][-3] == \"reel\":\n",
    "        tipos.append(\"Reels\")\n",
    "    else:\n",
    "        tipos.append(\"Outros\")\n",
    "\n",
    "for i in tipos:\n",
    "    print(i)"
   ]
  },
  {
   "cell_type": "code",
   "execution_count": null,
   "id": "c37b1119-4ac3-4c76-9daf-267d1eea72bc",
   "metadata": {},
   "outputs": [],
   "source": [
    "import instaloader\n",
    "import pandas as pd\n",
    "dados = []\n",
    "\n",
    "# Inicializar o Instaloader\n",
    "loader = instaloader.Instaloader()\n",
    "\n",
    "# Fazer login\n",
    "usuario = \"iesus.me\"\n",
    "senha = \"YES.me@\"\n",
    "loader.login(usuario, senha)\n",
    "\n",
    "# Iterar pelas URLs das postagens\n",
    "for post_url in link_list:\n",
    "    # Extrair o shortcode da URL\n",
    "    shortcode = post_url.split(\"/\")[-2]\n",
    "    \n",
    "    # Carregar os dados do post\n",
    "    post = instaloader.Post.from_shortcode(loader.context, shortcode)\n",
    "    \n",
    "    # Coletar informações relevantes\n",
    "    data_postagem = post.date_utc.strftime('%Y-%m-%d %H:%M:%S')  # Data em formato UTC\n",
    "    numero_curtidas = post.likes\n",
    "    numero_comentarios = post.comments\n",
    "    \n",
    "    # Adicionar os dados à lista\n",
    "    dados.append({\n",
    "        \"Data da Postagem\": data_postagem,\n",
    "        \"Número de Curtidas\": numero_curtidas,\n",
    "        \"Número de Comentários\": numero_comentarios\n",
    "    })\n",
    "\n",
    "# Criar um DataFrame com os dados\n",
    "df = pd.DataFrame(dados)\n",
    "\n",
    "# Exportar para um arquivo CSV\n",
    "df.to_csv(\"dados_instagram.csv\", index=False)\n",
    "\n",
    "print(\"Dados exportados com sucesso para 'dados_instagram.csv'\")"
   ]
  },
  {
   "cell_type": "code",
   "execution_count": 5,
   "id": "991a361f-e6c5-400e-a2eb-ece611308b17",
   "metadata": {},
   "outputs": [
    {
     "data": {
      "text/html": [
       "<div>\n",
       "<style scoped>\n",
       "    .dataframe tbody tr th:only-of-type {\n",
       "        vertical-align: middle;\n",
       "    }\n",
       "\n",
       "    .dataframe tbody tr th {\n",
       "        vertical-align: top;\n",
       "    }\n",
       "\n",
       "    .dataframe thead th {\n",
       "        text-align: right;\n",
       "    }\n",
       "</style>\n",
       "<table border=\"1\" class=\"dataframe\">\n",
       "  <thead>\n",
       "    <tr style=\"text-align: right;\">\n",
       "      <th></th>\n",
       "      <th>Data</th>\n",
       "      <th>Curtidas</th>\n",
       "      <th>Comentários</th>\n",
       "    </tr>\n",
       "  </thead>\n",
       "  <tbody>\n",
       "    <tr>\n",
       "      <th>count</th>\n",
       "      <td>166</td>\n",
       "      <td>166.000000</td>\n",
       "      <td>166.000000</td>\n",
       "    </tr>\n",
       "    <tr>\n",
       "      <th>mean</th>\n",
       "      <td>2022-05-31 01:52:46.265060352</td>\n",
       "      <td>14.174699</td>\n",
       "      <td>2.072289</td>\n",
       "    </tr>\n",
       "    <tr>\n",
       "      <th>min</th>\n",
       "      <td>2019-01-09 00:00:00</td>\n",
       "      <td>1.000000</td>\n",
       "      <td>0.000000</td>\n",
       "    </tr>\n",
       "    <tr>\n",
       "      <th>25%</th>\n",
       "      <td>2021-07-21 00:00:00</td>\n",
       "      <td>8.000000</td>\n",
       "      <td>0.000000</td>\n",
       "    </tr>\n",
       "    <tr>\n",
       "      <th>50%</th>\n",
       "      <td>2022-03-23 12:00:00</td>\n",
       "      <td>11.500000</td>\n",
       "      <td>1.000000</td>\n",
       "    </tr>\n",
       "    <tr>\n",
       "      <th>75%</th>\n",
       "      <td>2023-07-12 00:00:00</td>\n",
       "      <td>16.000000</td>\n",
       "      <td>2.000000</td>\n",
       "    </tr>\n",
       "    <tr>\n",
       "      <th>max</th>\n",
       "      <td>2024-12-01 00:00:00</td>\n",
       "      <td>111.000000</td>\n",
       "      <td>46.000000</td>\n",
       "    </tr>\n",
       "    <tr>\n",
       "      <th>std</th>\n",
       "      <td>NaN</td>\n",
       "      <td>12.124589</td>\n",
       "      <td>4.542815</td>\n",
       "    </tr>\n",
       "  </tbody>\n",
       "</table>\n",
       "</div>"
      ],
      "text/plain": [
       "                                Data    Curtidas  Comentários\n",
       "count                            166  166.000000   166.000000\n",
       "mean   2022-05-31 01:52:46.265060352   14.174699     2.072289\n",
       "min              2019-01-09 00:00:00    1.000000     0.000000\n",
       "25%              2021-07-21 00:00:00    8.000000     0.000000\n",
       "50%              2022-03-23 12:00:00   11.500000     1.000000\n",
       "75%              2023-07-12 00:00:00   16.000000     2.000000\n",
       "max              2024-12-01 00:00:00  111.000000    46.000000\n",
       "std                              NaN   12.124589     4.542815"
      ]
     },
     "execution_count": 5,
     "metadata": {},
     "output_type": "execute_result"
    }
   ],
   "source": [
    "base.describe()"
   ]
  },
  {
   "cell_type": "code",
   "execution_count": 83,
   "id": "d2e1b9a8-f218-4f57-bb4f-119ddf9b5c13",
   "metadata": {},
   "outputs": [
    {
     "data": {
      "image/png": "[encoded data removed]",
      "text/plain": [
       "<Figure size 1000x500 with 1 Axes>"
      ]
     },
     "metadata": {},
     "output_type": "display_data"
    },
    {
     "data": {
      "image/png": "[encoded data removed]",
      "text/plain": [
       "<Figure size 1000x500 with 1 Axes>"
      ]
     },
     "metadata": {},
     "output_type": "display_data"
    }
   ],
   "source": [
    "base.plot(kind=\"scatter\",x=\"Data\",y=\"Curtidas\",color=\"blue\",label=\"Curtidas\",figsize=(10,5));\n",
    "base.plot(kind=\"scatter\",x=\"Data\",y=\"Comentários\",color=\"red\",label=\"Comentários\",figsize=(10,5));"
   ]
  },
  {
   "cell_type": "markdown",
   "id": "55590731-4504-4340-969b-e9ab12db0ba4",
   "metadata": {
    "jp-MarkdownHeadingCollapsed": true
   },
   "source": [
    "## Análise exploratória"
   ]
  },
  {
   "cell_type": "code",
   "execution_count": 17,
   "id": "fbaede47-84c2-462d-af26-9b4bf5d12dc2",
   "metadata": {},
   "outputs": [],
   "source": [
    "import pandas as pd\n",
    "base=pd.read_excel('base_dados.xlsx')"
   ]
  },
  {
   "cell_type": "code",
   "execution_count": null,
   "id": "2e1235d0-d40c-4627-9ea0-4ff9b8edbca7",
   "metadata": {},
   "outputs": [],
   "source": [
    "#Extraindo os 5 melhores\n",
    "top5 = base.sort_values(by=\"Curtidas\",ascending=False).head()\n",
    "top5.to_csv('top5.csv')"
   ]
  },
  {
   "cell_type": "code",
   "execution_count": null,
   "id": "dc92e837-ea7f-4200-a724-88caca60f7a2",
   "metadata": {},
   "outputs": [],
   "source": [
    "#Extraindo os 5 piores\n",
    "worst5 = base.sort_values(by=\"Curtidas\",ascending=False).tail()\n",
    "worst5.to_csv('worst5.csv')"
   ]
  },
  {
   "cell_type": "code",
   "execution_count": 19,
   "id": "13c5a23f-210e-4534-827f-3a380181c54b",
   "metadata": {},
   "outputs": [],
   "source": [
    "# Para melhorar a visualização, vamos criar um padrão no formato dos valores\n",
    "pd.options.display.float_format = '{:,.2f}'.format"
   ]
  },
  {
   "cell_type": "code",
   "execution_count": 25,
   "id": "0e07ea9f-e8d8-4b64-b177-df493e04e11e",
   "metadata": {},
   "outputs": [
    {
     "data": {
      "text/html": [
       "<div>\n",
       "<style scoped>\n",
       "    .dataframe tbody tr th:only-of-type {\n",
       "        vertical-align: middle;\n",
       "    }\n",
       "\n",
       "    .dataframe tbody tr th {\n",
       "        vertical-align: top;\n",
       "    }\n",
       "\n",
       "    .dataframe thead th {\n",
       "        text-align: right;\n",
       "    }\n",
       "</style>\n",
       "<table border=\"1\" class=\"dataframe\">\n",
       "  <thead>\n",
       "    <tr style=\"text-align: right;\">\n",
       "      <th></th>\n",
       "      <th>Curtidas</th>\n",
       "      <th>Comentários</th>\n",
       "    </tr>\n",
       "    <tr>\n",
       "      <th>Tags</th>\n",
       "      <th></th>\n",
       "      <th></th>\n",
       "    </tr>\n",
       "  </thead>\n",
       "  <tbody>\n",
       "    <tr>\n",
       "      <th>Pessoa exibindo produto</th>\n",
       "      <td>43.00</td>\n",
       "      <td>5.00</td>\n",
       "    </tr>\n",
       "    <tr>\n",
       "      <th>Produção</th>\n",
       "      <td>40.17</td>\n",
       "      <td>3.67</td>\n",
       "    </tr>\n",
       "    <tr>\n",
       "      <th>Parcerias</th>\n",
       "      <td>18.00</td>\n",
       "      <td>21.00</td>\n",
       "    </tr>\n",
       "    <tr>\n",
       "      <th>Foto estética</th>\n",
       "      <td>14.59</td>\n",
       "      <td>2.00</td>\n",
       "    </tr>\n",
       "    <tr>\n",
       "      <th>Exposição</th>\n",
       "      <td>14.55</td>\n",
       "      <td>2.85</td>\n",
       "    </tr>\n",
       "    <tr>\n",
       "      <th>Caseiro</th>\n",
       "      <td>12.13</td>\n",
       "      <td>1.65</td>\n",
       "    </tr>\n",
       "    <tr>\n",
       "      <th>Design</th>\n",
       "      <td>5.00</td>\n",
       "      <td>0.00</td>\n",
       "    </tr>\n",
       "  </tbody>\n",
       "</table>\n",
       "</div>"
      ],
      "text/plain": [
       "                         Curtidas  Comentários\n",
       "Tags                                          \n",
       "Pessoa exibindo produto     43.00         5.00\n",
       "Produção                    40.17         3.67\n",
       "Parcerias                   18.00        21.00\n",
       "Foto estética               14.59         2.00\n",
       "Exposição                   14.55         2.85\n",
       "Caseiro                     12.13         1.65\n",
       "Design                       5.00         0.00"
      ]
     },
     "execution_count": 25,
     "metadata": {},
     "output_type": "execute_result"
    }
   ],
   "source": [
    "base.groupby('Tags')[['Curtidas', 'Comentários']].mean().sort_values(\"Curtidas\", ascending=False)"
   ]
  },
  {
   "cell_type": "markdown",
   "id": "2d764f88-b43d-4780-8058-c956bc3b255a",
   "metadata": {},
   "source": [
    "# 🔍 Perguntas"
   ]
  },
  {
   "cell_type": "markdown",
   "id": "a4612dae-1293-4427-b43f-dee4f9894e67",
   "metadata": {
    "jp-MarkdownHeadingCollapsed": true
   },
   "source": [
    "### <font color=\"gray\">1. Qual a média geral de curtidas?</font>\n",
    "**<font color=\"blue\">R:</font>** Média = **14 likes/post**"
   ]
  },
  {
   "attachments": {},
   "cell_type": "markdown",
   "id": "41f84812-c905-42f3-bd07-86366fcbf9a6",
   "metadata": {
    "jp-MarkdownHeadingCollapsed": true
   },
   "source": [
    "### <font color=\"gray\">2. Qual foi o período de maior atividade (postagens)?</font>\n",
    "**<font color=\"blue\">R:</font>** Final de **Março de 2022** foi o período mais ativo do usuário (**mediana: 23/03/2022**)**"
   ]
  },
  {
   "cell_type": "markdown",
   "id": "5aa75514-010d-41b5-ac5d-7e3ee2b8908a",
   "metadata": {
    "jp-MarkdownHeadingCollapsed": true
   },
   "source": [
    "### <font color=\"gray\">3. Qual foi o período de maior engajamento?</font>\n",
    "**<font color=\"blue\">R:</font>** Meiados de **Março de 2022** foi o período com maior **engajamento** (**mediana: 16/03/2022**)**"
   ]
  },
  {
   "cell_type": "code",
   "execution_count": 107,
   "id": "cd45d8f7-7ccc-4c5e-ab90-788b5e0a1b8e",
   "metadata": {},
   "outputs": [
    {
     "data": {
      "image/png": "[encoded data removed]",
      "text/plain": [
       "<Figure size 1000x500 with 1 Axes>"
      ]
     },
     "metadata": {},
     "output_type": "display_data"
    },
    {
     "data": {
      "image/png": "[encoded data removed]",
      "text/plain": [
       "<Figure size 1000x500 with 1 Axes>"
      ]
     },
     "metadata": {},
     "output_type": "display_data"
    }
   ],
   "source": [
    "base.plot(kind=\"scatter\",x=\"Data\",y=\"Curtidas\",color=\"blue\",label=\"Curtidas\",figsize=(10,5));\n",
    "base.plot(kind=\"scatter\",x=\"Data\",y=\"Comentários\",color=\"red\",label=\"Comentários\",figsize=(10,5));"
   ]
  },
  {
   "attachments": {},
   "cell_type": "markdown",
   "id": "2ea43891-ce46-4dda-8f21-c51ee6650b7e",
   "metadata": {},
   "source": [
    "### <font color=\"gray\">4. Quais os 5 posts com MAIS curtidas e qual o padrão observado?</font> <font color=\"green\">[+]</font>\n",
    "1. https://www.instagram.com/marcela_personalizados/reel/Cy1fy7UPyDn/\n",
    "2. https://www.instagram.com/marcela_personalizados/reel/CfSXO5TJ7C9/\n",
    "3. https://www.instagram.com/marcela_personalizados/p/Crb0uEMPPxP/\n",
    "4. https://www.instagram.com/marcela_personalizados/reel/CyowyxYvBYT/\n",
    "5. https://www.instagram.com/marcela_personalizados/p/CO5ZR8gDdwQ/"
   ]
  },
  {
   "cell_type": "markdown",
   "id": "393119c9-a404-4efb-89f8-2a1e334c970f",
   "metadata": {},
   "source": [
    "1. Jovem exibindo processo de produção, música empolgante, cores vibrantes.\n",
    "2. Exibição de produto bordado, música 'cute'.\n",
    "3. Pacote conjunto de produtos, produto bem embalado, fotografia estética, cores combinando com fundo.\n",
    "4. Processo de produção\n",
    "5. Fotografia estética, produto conjunto, fundo harmoniza com cores do produto."
   ]
  },
  {
   "attachments": {},
   "cell_type": "markdown",
   "id": "5e716919-7f6d-41c4-b926-e0bb6aa05971",
   "metadata": {},
   "source": [
    "### <font color=\"gray\">5. Quais os 5 posts com MENOS curtidas e qual o padrão observado?</font> <font color=\"red\">[-]</font>\n",
    "1. https://www.instagram.com/marcela_personalizados/p/CunNl1EvbFY/\n",
    "2. https://www.instagram.com/marcela_personalizados/p/DAja4k6vZHa/\n",
    "3. https://www.instagram.com/marcela_personalizados/p/C6KMsjAPY75/\n",
    "4. https://www.instagram.com/marcela_personalizados/p/CumZBryOYcc/\n",
    "5. https://www.instagram.com/marcela_personalizados/p/DAjbI15PkR5/"
   ]
  },
  {
   "cell_type": "markdown",
   "id": "e977a116-af07-4575-917c-f15989ff48d6",
   "metadata": {},
   "source": [
    "1. A má iluminação faz o produto aparentar estar 'sujo', apesar de não estar.\n",
    "2. Iluminação deficiente, escurecendo o contraste entre o rosa e o branco do produto.\n",
    "3. Muita saturação de informação. Não dá pra entender realmente a mensagem do produto.\n",
    "4. Confuso aos olhos do espectador, Excessivamente caseiro.\n",
    "5. Iluminação deficiente, produtos mal organizados. Parecem ter sido 'jogados'."
   ]
  },
  {
   "cell_type": "markdown",
   "id": "bb3b1843-42e3-4bc1-8c86-70612c3bcdee",
   "metadata": {},
   "source": [
    "### <font color=\"gray\">6. Qual foi a melhor frequência de postagem do negócio?</font>\n",
    "* 2022: ~4,58 postagens/mês\n",
    "* 2021: ~3,33 postagens/mês\n",
    "* 2023: ~3,17 postagens/mês\n"
   ]
  },
  {
   "cell_type": "markdown",
   "id": "8480b4b9-edfb-4a25-ab6c-3bb3209886e5",
   "metadata": {},
   "source": [
    "### <font color=\"gray\">7. Qual tipo de conteúdo mais engajou curtidas e comentários?</font>"
   ]
  },
  {
   "cell_type": "markdown",
   "id": "e3f1733f-5aeb-455e-abc2-3d00ca398dd9",
   "metadata": {
    "jp-MarkdownHeadingCollapsed": true
   },
   "source": [
    "**Tipo**\n",
    "* Média Reels = 20,43 \n",
    "* Média Carrossel = 16,77\n",
    "* Média Foto = 11,45"
   ]
  },
  {
   "attachments": {
    "f104f6fe-3c69-4c21-b10c-ab300aef0b56.png": {
     "image/png": "[encoded data removed]"
    }
   },
   "cell_type": "markdown",
   "id": "b1d8affb-15cc-4afe-bf99-20fddd48df91",
   "metadata": {
    "jp-MarkdownHeadingCollapsed": true
   },
   "source": [
    "**Tags**<br>\n",
    "![image.png](attachment:f104f6fe-3c69-4c21-b10c-ab300aef0b56.png)"
   ]
  },
  {
   "cell_type": "markdown",
   "id": "036bfb09-12f3-4980-a86d-899a2a7e8553",
   "metadata": {},
   "source": [
    "# ✅ Conclusões"
   ]
  },
  {
   "attachments": {
    "5fd650a2-34b2-4eda-bd47-858a0f548135.png": {
     "image/png": "[encoded data removed]"
    }
   },
   "cell_type": "markdown",
   "id": "d107fc24-8bb2-469f-bba9-cdc52ce9d8dd",
   "metadata": {},
   "source": [
    "### 1. **ATIVIDADE** é um fator de importância para o usuário\n",
    "O período de maior **ENGAJAMENTO** corresponde ao período de maior **ATIVIDADE** do usuário.\n",
    "\n",
    "### 2. Há um padrão de HORÁRIO que mais funciona com a audiência do usuário\n",
    "O horário de maior **ENGAJAMENTO** está na faixa média de 17h30 às 21h00 ~\n",
    "* 17:22\n",
    "* 20:34 → Melhor 🏆\n",
    "* 21:06\n",
    "\n",
    "### 3. Reels + Pessoas + Processo de Produção + Música empolgado = **Engajamento**\n",
    "É algo que, estatísticamente, funciona muito com a audiência e é pouco explorado pelo usuário.\n",
    "No geral, pessoas se interessam por conteúdos humanizados e processos criativos. Isso retém o view até o final e garante o engajamento. A captação dos processos de produção é uma **grande oportunidade** para o usuário. Veja tabela da média de curtidas e comentários por classe:<br>\n",
    "![image.png](attachment:5fd650a2-34b2-4eda-bd47-858a0f548135.png)\n",
    "* Exemplo 1: https://www.instagram.com/marcela_personalizados/reel/Cy1fy7UPyDn/\n",
    "* Exemplo 2: https://www.instagram.com/marcela_personalizados/reel/CyowyxYvBYT/\n",
    "\n",
    "### 4. Design não funciona para o usuário\n",
    "Os posts com estrutura de Design pertence a classe dos posts com <font color=\"red\">pior engajamento</font>. É interessante notar que o público tende a responder bem às postagens harmônicas e humanas. Fica a sugestão para o usuário abolir os posts Design do escopo de postagens; exigem tempo e são indiferentes à audiência.\n",
    "\n",
    "* Exemplo 1: https://www.instagram.com/marcela_personalizados/p/CrwjthvPYxJ/\n",
    "* Exemplo 2: https://www.instagram.com/marcela_personalizados/p/CrwjV_3vAv8/\n",
    "\n",
    "### 5. Atenção à **iluminação** e à **organização** dos produtos para fotografia\n",
    "É algo que, estatísticamente, o usuário tem apresentado <font color=\"red\">inaptidão</font>. Os principais conteúdos que não engajaram apresentam estas características.\n",
    "* Exemplo 1: https://www.instagram.com/marcela_personalizados/p/DAjbI15PkR5/\n",
    "* Exemplo 2: https://www.instagram.com/marcela_personalizados/p/CumZBryOYcc/\n",
    "\n",
    "### 6. Parcerias = Comentários\n",
    "É importante notar a correlação lógica das parcerias com o aumento de comentários. Os posts de parcerias aparecem no feed de ambos os envolvidos, logo é uma estratégia interessante para trazer novos seguidores e potenciais clientes!<br>\n",
    "![image.png](attachment:5fd650a2-34b2-4eda-bd47-858a0f548135.png)\n",
    "\n",
    "\n",
    "### 7. Sobre frequência de postagens\n",
    "A média de ~4,58 postagens por mês (cerca de uma por semana) é considerada adequada para muitos pequenos e médios negócios. Essa frequência é suficiente para manter a presença online sem saturar o público.\n",
    "* 3-5 postagens por semana (12-20 postagens/mês) é comum para redes sociais ativas, especialmente em plataformas como Instagram ou Facebook.\n",
    "* 1-2 postagens por semana (~4-8 postagens/mês) funciona para negócios com menos tempo ou orçamento.\n"
   ]
  }
 ],
 "metadata": {
  "kernelspec": {
   "display_name": "Python 3 (ipykernel)",
   "language": "python",
   "name": "python3"
  },
  "language_info": {
   "codemirror_mode": {
    "name": "ipython",
    "version": 3
   },
   "file_extension": ".py",
   "mimetype": "text/x-python",
   "name": "python",
   "nbconvert_exporter": "python",
   "pygments_lexer": "ipython3",
   "version": "3.12.7"
  }
 },
 "nbformat": 4,
 "nbformat_minor": 5
}
